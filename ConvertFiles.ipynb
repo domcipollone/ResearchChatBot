{
 "cells": [
  {
   "cell_type": "code",
   "execution_count": 22,
   "metadata": {},
   "outputs": [],
   "source": [
    "from haystack.nodes import PDFToTextConverter\n",
    "from haystack.nodes import PreProcessor\n",
    "from haystack.document_stores import PineconeDocumentStore\n",
    "from dotenv import dotenv_values\n",
    "from pathlib import Path\n",
    "from haystack.pipelines import Pipeline\n",
    "import pandas as pd\n",
    "import numpy as np\n",
    "import openai\n",
    "import pinecone\n",
    "import os"
   ]
  },
  {
   "cell_type": "code",
   "execution_count": 23,
   "metadata": {},
   "outputs": [],
   "source": [
    "config = dotenv_values('api_keys.env')\n",
    "openai.api_key = config['OPENAI_API_KEY']\n",
    "pinecone_api_key = config['PINECONE_API_KEY']\n",
    "pinecone_env = config['PINECONE_ENV']"
   ]
  },
  {
   "cell_type": "code",
   "execution_count": 24,
   "metadata": {},
   "outputs": [
    {
     "name": "stderr",
     "output_type": "stream",
     "text": [
      "c:\\Users\\Dom\\VSCodeProjects\\ResearchChatBot\\.venv\\lib\\site-packages\\pinecone\\core\\client\\rest.py:45: DeprecationWarning: HTTPResponse.getheader() is deprecated and will be removed in urllib3 v2.1.0. Instead use HTTPResponse.headers.get(name, default).\n",
      "  return self.urllib3_response.getheader(name, default)\n",
      "C:\\Users\\Dom\\AppData\\Local\\Temp\\ipykernel_18292\\2381031466.py:6: ResourceWarning: unclosed <ssl.SSLSocket fd=5552, family=AddressFamily.AF_INET, type=SocketKind.SOCK_STREAM, proto=0, laddr=('192.168.1.13', 58756), raddr=('34.140.58.85', 443)>\n",
      "  pinecone.list_indexes()\n",
      "ResourceWarning: Enable tracemalloc to get the object allocation traceback\n"
     ]
    },
    {
     "data": {
      "text/plain": [
       "['testing']"
      ]
     },
     "execution_count": 24,
     "metadata": {},
     "output_type": "execute_result"
    }
   ],
   "source": [
    "pinecone.init(api_key=pinecone_api_key,\n",
    "              environment=pinecone_env)\n",
    "\n",
    "# pinecone.create_index(name='diw-test-index',\n",
    "#                        dimension=1536)\n",
    "pinecone.list_indexes()"
   ]
  },
  {
   "cell_type": "code",
   "execution_count": 25,
   "metadata": {},
   "outputs": [
    {
     "name": "stderr",
     "output_type": "stream",
     "text": [
      "c:\\Users\\Dom\\VSCodeProjects\\ResearchChatBot\\.venv\\lib\\site-packages\\haystack\\document_stores\\pinecone.py:224: ResourceWarning: unclosed <ssl.SSLSocket fd=5552, family=AddressFamily.AF_INET, type=SocketKind.SOCK_STREAM, proto=0, laddr=('192.168.1.13', 58758), raddr=('34.140.58.85', 443)>\n",
      "  if index not in pinecone.list_indexes():\n",
      "ResourceWarning: Enable tracemalloc to get the object allocation traceback\n"
     ]
    }
   ],
   "source": [
    "document_store = PineconeDocumentStore(\n",
    "    api_key=pinecone_api_key,\n",
    "    environment=pinecone_env,\n",
    "    similarity=\"cosine\",\n",
    "    index='testing',\n",
    "    embedding_dim=1536\n",
    ")"
   ]
  },
  {
   "cell_type": "code",
   "execution_count": 42,
   "metadata": {},
   "outputs": [
    {
     "name": "stdout",
     "output_type": "stream",
     "text": [
      "                                                                             title   \n",
      "0  Tuning the 3d printability and thermomechanical properties of radiation shields  \\\n",
      "1  Rheological behavior of titania ink and mechanical properties of titania cer...   \n",
      "2  Unconventional Application of Direct Ink Writing: Surface Force-Driven Patte...   \n",
      "3  Rheological Study and Printability Investigation of Titania Inks for Direct ...   \n",
      "4                       Robocasting of structural ceramic parts with hydrogel inks   \n",
      "\n",
      "                author  year   \n",
      "0  Brounstein, Zachary  2021  \\\n",
      "1            Chen, Tao  2019   \n",
      "2     Cordonier, G. J.  2020   \n",
      "3    Dolganov, Aleksei         \n",
      "4        Feilden, Ezra  2016   \n",
      "\n",
      "                                                                          abstract   \n",
      "0  Additive manufacturing, with its rapid advances in materials science, allows...  \\\n",
      "1  In this paper, high solid loading titania ceramic ink containing sodium hexa...   \n",
      "2  A new concept for the direct ink writing (DIW) of model titanium dioxide ink...   \n",
      "3  Titanium dioxide is widely used in numerous industries and with the newly de...   \n",
      "4  Robocasting is a 3D printing technique that may be able to achieve the much-...   \n",
      "\n",
      "                                                                          keywords   \n",
      "0  [3D printability, Direct ink writing, Inorganic fillers, Ionizing radiation,...  \\\n",
      "1  [Compressive strength, Direct ink writing, High solid loading, Rheological b...   \n",
      "2  [direct ink writing, micropatterning, surface texturing, thin films, titaniu...   \n",
      "3                        [Direct Ink Writing, Rheology, Titania, Titanium Dioxide]   \n",
      "4           [3D printing, Additive manufacturing, Ceramics, Rheology, Robocasting]   \n",
      "\n",
      "  issue volume                                  journal  date_added  \n",
      "0    19     13                                 Polymers  2023-04-25  \n",
      "1          783          Journal of Alloys and Compounds  2023-04-25  \n",
      "2    13     12     ACS Applied Materials and Interfaces  2023-04-25  \n",
      "3                                                        2023-04-25  \n",
      "4    10     36  Journal of the European Ceramic Society  2023-04-25  \n"
     ]
    }
   ],
   "source": [
    "df = pd.read_pickle('diw.pkl')\n",
    "print(df.head())"
   ]
  },
  {
   "cell_type": "code",
   "execution_count": 27,
   "metadata": {},
   "outputs": [],
   "source": [
    "meta_data = df.to_dict('records')"
   ]
  },
  {
   "cell_type": "code",
   "execution_count": 28,
   "metadata": {},
   "outputs": [],
   "source": [
    "\n",
    "converter = PDFToTextConverter(\n",
    "    remove_numeric_tables=True,\n",
    "    valid_languages=[\"de\",\"en\"]\n",
    ")\n",
    "\n",
    "processor = PreProcessor(\n",
    "    clean_empty_lines=True,\n",
    "    clean_whitespace=True,\n",
    "    clean_header_footer=True,\n",
    "    split_by=\"word\",\n",
    "    split_length=200,\n",
    "    split_respect_sentence_boundary=True,\n",
    "    split_overlap=0\n",
    ")\n",
    "\n",
    "# document_store = InMemoryDocumentStore(use_bm25=True)\n",
    "\n",
    "\n"
   ]
  },
  {
   "cell_type": "code",
   "execution_count": 29,
   "metadata": {},
   "outputs": [],
   "source": [
    "def get_embeddings(text: str, model=\"text-embedding-ada-002\") -> list[float]:\n",
    "    embedding = openai.Embedding.create(\n",
    "        input=text,\n",
    "        model=model\n",
    "    )[\"data\"][0][\"embedding\"]\n",
    "\n",
    "    return embedding"
   ]
  },
  {
   "cell_type": "code",
   "execution_count": 33,
   "metadata": {},
   "outputs": [],
   "source": [
    "def get_embeddings_for_pinecone(text: str, model=\"text-embedding-ada-002\") -> list[str]:\n",
    "    embedding = openai.Embedding.create(\n",
    "        input=text,\n",
    "        model=model\n",
    "    )[\"data\"][0][\"embedding\"]\n",
    "\n",
    "    return [str(i) for i in embedding]"
   ]
  },
  {
   "cell_type": "code",
   "execution_count": 36,
   "metadata": {},
   "outputs": [
    {
     "name": "stdout",
     "output_type": "stream",
     "text": [
      "<class 'str'>\n"
     ]
    }
   ],
   "source": [
    "input_string = 'I am the terminator'\n",
    "\n",
    "x = get_embeddings_for_pinecone(text=input_string)\n",
    "print(type(x[0]))"
   ]
  },
  {
   "cell_type": "code",
   "execution_count": 30,
   "metadata": {},
   "outputs": [],
   "source": [
    "def create_prompt(dataframe, df_column, question):\n",
    "\n",
    "    content = []\n",
    "    dataframe[df_column].apply(lambda x: content.append(str(x).replace(\",\", '').replace(\"'\", '')))\n",
    "\n",
    "    header = \"\"\"Answer the question as truthfully as possible using the provided context, and if the answer\n",
    "     is not contained within the text below, say \"I don't know.\"\\n\\nContext:\\n\"\"\"\n",
    "\n",
    "    header_total = str(header + str(content)).replace('[', '').replace(']', '')\n",
    "\n",
    "    return header_total + \"\\n\\n Q: \" + question + \"\\n A:\""
   ]
  },
  {
   "cell_type": "code",
   "execution_count": 37,
   "metadata": {},
   "outputs": [
    {
     "name": "stdout",
     "output_type": "stream",
     "text": [
      "Working on Brounstein_2021.pdf\n"
     ]
    },
    {
     "name": "stderr",
     "output_type": "stream",
     "text": [
      "Preprocessing: 100%|██████████| 1/1 [00:00<00:00, 22.71docs/s]\n",
      "Writing Documents:   0%|          | 0/67 [00:00<?, ?it/s]c:\\Users\\Dom\\VSCodeProjects\\ResearchChatBot\\.venv\\lib\\site-packages\\pinecone\\core\\client\\rest.py:45: DeprecationWarning: HTTPResponse.getheader() is deprecated and will be removed in urllib3 v2.1.0. Instead use HTTPResponse.headers.get(name, default).\n",
      "  return self.urllib3_response.getheader(name, default)\n",
      "Writing Documents: 96it [00:02, 32.92it/s]                        \n"
     ]
    }
   ],
   "source": [
    "for count, filename in enumerate(os.listdir(\"pdfs/\")):\n",
    "    if count < 1:\n",
    "        print(f'Working on {filename}')\n",
    "        doc = converter.convert(file_path=Path(\"pdfs/\"+str(filename)), meta=meta_data[count])\n",
    "        processed_docs = processor.process(doc)\n",
    "        \n",
    "        for doc_count in range(len(processed_docs)):\n",
    "            embedding_meta_data = get_embeddings_for_pinecone(text=processed_docs[doc_count].content)\n",
    "            \n",
    "            processed_docs[doc_count].meta['embedding'] = embedding_meta_data\n",
    "\n",
    "        document_store.write_documents(processed_docs)\n",
    "    else:\n",
    "        break"
   ]
  },
  {
   "cell_type": "code",
   "execution_count": 40,
   "metadata": {},
   "outputs": [],
   "source": [
    "index = pinecone.Index('testing')"
   ]
  },
  {
   "cell_type": "code",
   "execution_count": 41,
   "metadata": {},
   "outputs": [
    {
     "name": "stderr",
     "output_type": "stream",
     "text": [
      "c:\\Users\\Dom\\VSCodeProjects\\ResearchChatBot\\.venv\\lib\\site-packages\\pinecone\\core\\client\\rest.py:45: DeprecationWarning: HTTPResponse.getheader() is deprecated and will be removed in urllib3 v2.1.0. Instead use HTTPResponse.headers.get(name, default).\n",
      "  return self.urllib3_response.getheader(name, default)\n"
     ]
    },
    {
     "data": {
      "text/plain": [
       "{'dimension': 1536,\n",
       " 'index_fullness': 0.0,\n",
       " 'namespaces': {'no-vectors': {'vector_count': 67}},\n",
       " 'total_vector_count': 67}"
      ]
     },
     "execution_count": 41,
     "metadata": {},
     "output_type": "execute_result"
    }
   ],
   "source": [
    "index.describe_index_stats()"
   ]
  },
  {
   "cell_type": "code",
   "execution_count": 50,
   "metadata": {},
   "outputs": [
    {
     "name": "stderr",
     "output_type": "stream",
     "text": [
      "c:\\Users\\Dom\\VSCodeProjects\\ResearchChatBot\\.venv\\lib\\site-packages\\pinecone\\core\\client\\rest.py:45: DeprecationWarning: HTTPResponse.getheader() is deprecated and will be removed in urllib3 v2.1.0. Instead use HTTPResponse.headers.get(name, default).\n",
      "  return self.urllib3_response.getheader(name, default)\n"
     ]
    },
    {
     "data": {
      "text/plain": [
       "{'namespace': '', 'vectors': {}}"
      ]
     },
     "execution_count": 50,
     "metadata": {},
     "output_type": "execute_result"
    }
   ],
   "source": [
    "index.fetch(ids=['id1'])"
   ]
  }
 ],
 "metadata": {
  "kernelspec": {
   "display_name": ".venv",
   "language": "python",
   "name": "python3"
  },
  "language_info": {
   "codemirror_mode": {
    "name": "ipython",
    "version": 3
   },
   "file_extension": ".py",
   "mimetype": "text/x-python",
   "name": "python",
   "nbconvert_exporter": "python",
   "pygments_lexer": "ipython3",
   "version": "3.9.0"
  },
  "orig_nbformat": 4
 },
 "nbformat": 4,
 "nbformat_minor": 2
}
