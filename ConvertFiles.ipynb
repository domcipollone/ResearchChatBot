{
 "cells": [
  {
   "cell_type": "code",
   "execution_count": 5,
   "metadata": {},
   "outputs": [],
   "source": [
    "from haystack.nodes import PDFToTextConverter\n",
    "from haystack.nodes import PreProcessor\n",
    "from haystack.document_stores import PineconeDocumentStore\n",
    "from dotenv import dotenv_values\n",
    "from pathlib import Path\n",
    "from haystack.pipelines import Pipeline\n",
    "import pandas as pd\n",
    "import numpy as np\n",
    "import openai\n",
    "import pinecone\n",
    "import os"
   ]
  },
  {
   "cell_type": "code",
   "execution_count": 6,
   "metadata": {},
   "outputs": [],
   "source": [
    "config = dotenv_values('apikeys.env')\n",
    "openai_api_key = config['OPEN_AI_API']\n",
    "pinecone_api_key = config['PINECONE_API']\n",
    "pinecone_env = config['PINECONE_ENV']"
   ]
  },
  {
   "cell_type": "code",
   "execution_count": 7,
   "metadata": {},
   "outputs": [
    {
     "data": {
      "text/plain": [
       "['diw-test-index']"
      ]
     },
     "execution_count": 7,
     "metadata": {},
     "output_type": "execute_result"
    }
   ],
   "source": [
    "pinecone.init(api_key=pinecone_api_key,\n",
    "              environment=pinecone_env)\n",
    "\n",
    "# pinecone.create_index(name='diw-test-index',\n",
    "#                        dimension=1536)\n",
    "pinecone.list_indexes()"
   ]
  },
  {
   "cell_type": "code",
   "execution_count": 8,
   "metadata": {},
   "outputs": [
    {
     "ename": "ImportError",
     "evalue": "Failed to import 'PineconeDocumentStore', which is an optional component in Haystack.\nRun 'pip install 'farm-haystack[pinecone]'' to install the required dependencies and make this component available.\n(Original error: No module named 'pinecone')",
     "output_type": "error",
     "traceback": [
      "\u001b[1;31m---------------------------------------------------------------------------\u001b[0m",
      "\u001b[1;31mModuleNotFoundError\u001b[0m                       Traceback (most recent call last)",
      "File \u001b[1;32mc:\\Users\\domenic.cipollone\\VSCodeProjects\\ResearchChatBot\\.venv\\lib\\site-packages\\haystack\\utils\\import_utils.py:30\u001b[0m, in \u001b[0;36msafe_import\u001b[1;34m(import_path, classname, dep_group)\u001b[0m\n\u001b[0;32m     29\u001b[0m \u001b[39mtry\u001b[39;00m:\n\u001b[1;32m---> 30\u001b[0m     module \u001b[39m=\u001b[39m importlib\u001b[39m.\u001b[39;49mimport_module(import_path)\n\u001b[0;32m     31\u001b[0m     classs \u001b[39m=\u001b[39m \u001b[39mvars\u001b[39m(module)\u001b[39m.\u001b[39mget(classname)\n",
      "File \u001b[1;32m~\\AppData\\Local\\Programs\\Python\\Python310\\lib\\importlib\\__init__.py:126\u001b[0m, in \u001b[0;36mimport_module\u001b[1;34m(name, package)\u001b[0m\n\u001b[0;32m    125\u001b[0m         level \u001b[39m+\u001b[39m\u001b[39m=\u001b[39m \u001b[39m1\u001b[39m\n\u001b[1;32m--> 126\u001b[0m \u001b[39mreturn\u001b[39;00m _bootstrap\u001b[39m.\u001b[39;49m_gcd_import(name[level:], package, level)\n",
      "File \u001b[1;32m<frozen importlib._bootstrap>:1050\u001b[0m, in \u001b[0;36m_gcd_import\u001b[1;34m(name, package, level)\u001b[0m\n",
      "File \u001b[1;32m<frozen importlib._bootstrap>:1027\u001b[0m, in \u001b[0;36m_find_and_load\u001b[1;34m(name, import_)\u001b[0m\n",
      "File \u001b[1;32m<frozen importlib._bootstrap>:1006\u001b[0m, in \u001b[0;36m_find_and_load_unlocked\u001b[1;34m(name, import_)\u001b[0m\n",
      "File \u001b[1;32m<frozen importlib._bootstrap>:688\u001b[0m, in \u001b[0;36m_load_unlocked\u001b[1;34m(spec)\u001b[0m\n",
      "File \u001b[1;32m<frozen importlib._bootstrap_external>:883\u001b[0m, in \u001b[0;36mexec_module\u001b[1;34m(self, module)\u001b[0m\n",
      "File \u001b[1;32m<frozen importlib._bootstrap>:241\u001b[0m, in \u001b[0;36m_call_with_frames_removed\u001b[1;34m(f, *args, **kwds)\u001b[0m\n",
      "File \u001b[1;32mc:\\Users\\domenic.cipollone\\VSCodeProjects\\ResearchChatBot\\.venv\\lib\\site-packages\\haystack\\document_stores\\pinecone.py:8\u001b[0m\n\u001b[0;32m      6\u001b[0m \u001b[39mimport\u001b[39;00m \u001b[39moperator\u001b[39;00m\n\u001b[1;32m----> 8\u001b[0m \u001b[39mimport\u001b[39;00m \u001b[39mpinecone\u001b[39;00m\n\u001b[0;32m      9\u001b[0m \u001b[39mimport\u001b[39;00m \u001b[39mnumpy\u001b[39;00m \u001b[39mas\u001b[39;00m \u001b[39mnp\u001b[39;00m\n",
      "\u001b[1;31mModuleNotFoundError\u001b[0m: No module named 'pinecone'",
      "\nThe above exception was the direct cause of the following exception:\n",
      "\u001b[1;31mImportError\u001b[0m                               Traceback (most recent call last)",
      "Cell \u001b[1;32mIn[8], line 1\u001b[0m\n\u001b[1;32m----> 1\u001b[0m document_store \u001b[39m=\u001b[39m PineconeDocumentStore(\n\u001b[0;32m      2\u001b[0m     api_key\u001b[39m=\u001b[39;49mpinecone_api_key,\n\u001b[0;32m      3\u001b[0m     similarity\u001b[39m=\u001b[39;49m\u001b[39m\"\u001b[39;49m\u001b[39mcosine\u001b[39;49m\u001b[39m\"\u001b[39;49m,\n\u001b[0;32m      4\u001b[0m     index\u001b[39m=\u001b[39;49m\u001b[39m'\u001b[39;49m\u001b[39mdiw-test-index\u001b[39;49m\u001b[39m'\u001b[39;49m,\n\u001b[0;32m      5\u001b[0m     embedding_dim\u001b[39m=\u001b[39;49m\u001b[39m1536\u001b[39;49m\n\u001b[0;32m      6\u001b[0m )\n",
      "File \u001b[1;32mc:\\Users\\domenic.cipollone\\VSCodeProjects\\ResearchChatBot\\.venv\\lib\\site-packages\\haystack\\utils\\import_utils.py:47\u001b[0m, in \u001b[0;36m_missing_dependency_stub_factory.<locals>.MissingDependency.__init__\u001b[1;34m(self, *args, **kwargs)\u001b[0m\n\u001b[0;32m     46\u001b[0m \u001b[39mdef\u001b[39;00m \u001b[39m__init__\u001b[39m(\u001b[39mself\u001b[39m, \u001b[39m*\u001b[39margs, \u001b[39m*\u001b[39m\u001b[39m*\u001b[39mkwargs):\n\u001b[1;32m---> 47\u001b[0m     _optional_component_not_installed(classname, dep_group, import_error)\n",
      "File \u001b[1;32mc:\\Users\\domenic.cipollone\\VSCodeProjects\\ResearchChatBot\\.venv\\lib\\site-packages\\haystack\\utils\\import_utils.py:56\u001b[0m, in \u001b[0;36m_optional_component_not_installed\u001b[1;34m(component, dep_group, source_error)\u001b[0m\n\u001b[0;32m     55\u001b[0m \u001b[39mdef\u001b[39;00m \u001b[39m_optional_component_not_installed\u001b[39m(component: \u001b[39mstr\u001b[39m, dep_group: \u001b[39mstr\u001b[39m, source_error: \u001b[39mException\u001b[39;00m):\n\u001b[1;32m---> 56\u001b[0m     \u001b[39mraise\u001b[39;00m \u001b[39mImportError\u001b[39;00m(\n\u001b[0;32m     57\u001b[0m         \u001b[39mf\u001b[39m\u001b[39m\"\u001b[39m\u001b[39mFailed to import \u001b[39m\u001b[39m'\u001b[39m\u001b[39m{\u001b[39;00mcomponent\u001b[39m}\u001b[39;00m\u001b[39m'\u001b[39m\u001b[39m, \u001b[39m\u001b[39m\"\u001b[39m\n\u001b[0;32m     58\u001b[0m         \u001b[39m\"\u001b[39m\u001b[39mwhich is an optional component in Haystack.\u001b[39m\u001b[39m\\n\u001b[39;00m\u001b[39m\"\u001b[39m\n\u001b[0;32m     59\u001b[0m         \u001b[39mf\u001b[39m\u001b[39m\"\u001b[39m\u001b[39mRun \u001b[39m\u001b[39m'\u001b[39m\u001b[39mpip install \u001b[39m\u001b[39m'\u001b[39m\u001b[39mfarm-haystack[\u001b[39m\u001b[39m{\u001b[39;00mdep_group\u001b[39m}\u001b[39;00m\u001b[39m]\u001b[39m\u001b[39m'\u001b[39m\u001b[39m'\u001b[39m\u001b[39m \u001b[39m\u001b[39m\"\u001b[39m\n\u001b[0;32m     60\u001b[0m         \u001b[39m\"\u001b[39m\u001b[39mto install the required dependencies and make this component available.\u001b[39m\u001b[39m\\n\u001b[39;00m\u001b[39m\"\u001b[39m\n\u001b[0;32m     61\u001b[0m         \u001b[39mf\u001b[39m\u001b[39m\"\u001b[39m\u001b[39m(Original error: \u001b[39m\u001b[39m{\u001b[39;00m\u001b[39mstr\u001b[39m(source_error)\u001b[39m}\u001b[39;00m\u001b[39m)\u001b[39m\u001b[39m\"\u001b[39m\n\u001b[0;32m     62\u001b[0m     ) \u001b[39mfrom\u001b[39;00m \u001b[39msource_error\u001b[39;00m\n",
      "\u001b[1;31mImportError\u001b[0m: Failed to import 'PineconeDocumentStore', which is an optional component in Haystack.\nRun 'pip install 'farm-haystack[pinecone]'' to install the required dependencies and make this component available.\n(Original error: No module named 'pinecone')"
     ]
    }
   ],
   "source": [
    "document_store = PineconeDocumentStore(\n",
    "    api_key=pinecone_api_key,\n",
    "    similarity=\"cosine\",\n",
    "    index='diw-test-index',\n",
    "    embedding_dim=1536\n",
    ")"
   ]
  },
  {
   "cell_type": "code",
   "execution_count": 26,
   "metadata": {},
   "outputs": [],
   "source": [
    "df = pd.read_pickle('diw.pkl')"
   ]
  },
  {
   "cell_type": "code",
   "execution_count": 27,
   "metadata": {},
   "outputs": [],
   "source": [
    "meta_data = df.to_dict('records')"
   ]
  },
  {
   "cell_type": "code",
   "execution_count": 32,
   "metadata": {},
   "outputs": [
    {
     "ename": "ImportError",
     "evalue": "Failed to import 'PineconeDocumentStore', which is an optional component in Haystack.\nRun 'pip install 'farm-haystack[pinecone]'' to install the required dependencies and make this component available.\n(Original error: No module named 'pinecone')",
     "output_type": "error",
     "traceback": [
      "\u001b[1;31m---------------------------------------------------------------------------\u001b[0m",
      "\u001b[1;31mModuleNotFoundError\u001b[0m                       Traceback (most recent call last)",
      "File \u001b[1;32mc:\\Users\\domenic.cipollone\\VSCodeProjects\\ResearchChatBot\\.venv\\lib\\site-packages\\haystack\\utils\\import_utils.py:30\u001b[0m, in \u001b[0;36msafe_import\u001b[1;34m(import_path, classname, dep_group)\u001b[0m\n\u001b[0;32m     29\u001b[0m \u001b[39mtry\u001b[39;00m:\n\u001b[1;32m---> 30\u001b[0m     module \u001b[39m=\u001b[39m importlib\u001b[39m.\u001b[39;49mimport_module(import_path)\n\u001b[0;32m     31\u001b[0m     classs \u001b[39m=\u001b[39m \u001b[39mvars\u001b[39m(module)\u001b[39m.\u001b[39mget(classname)\n",
      "File \u001b[1;32m~\\AppData\\Local\\Programs\\Python\\Python310\\lib\\importlib\\__init__.py:126\u001b[0m, in \u001b[0;36mimport_module\u001b[1;34m(name, package)\u001b[0m\n\u001b[0;32m    125\u001b[0m         level \u001b[39m+\u001b[39m\u001b[39m=\u001b[39m \u001b[39m1\u001b[39m\n\u001b[1;32m--> 126\u001b[0m \u001b[39mreturn\u001b[39;00m _bootstrap\u001b[39m.\u001b[39;49m_gcd_import(name[level:], package, level)\n",
      "File \u001b[1;32m<frozen importlib._bootstrap>:1050\u001b[0m, in \u001b[0;36m_gcd_import\u001b[1;34m(name, package, level)\u001b[0m\n",
      "File \u001b[1;32m<frozen importlib._bootstrap>:1027\u001b[0m, in \u001b[0;36m_find_and_load\u001b[1;34m(name, import_)\u001b[0m\n",
      "File \u001b[1;32m<frozen importlib._bootstrap>:1006\u001b[0m, in \u001b[0;36m_find_and_load_unlocked\u001b[1;34m(name, import_)\u001b[0m\n",
      "File \u001b[1;32m<frozen importlib._bootstrap>:688\u001b[0m, in \u001b[0;36m_load_unlocked\u001b[1;34m(spec)\u001b[0m\n",
      "File \u001b[1;32m<frozen importlib._bootstrap_external>:883\u001b[0m, in \u001b[0;36mexec_module\u001b[1;34m(self, module)\u001b[0m\n",
      "File \u001b[1;32m<frozen importlib._bootstrap>:241\u001b[0m, in \u001b[0;36m_call_with_frames_removed\u001b[1;34m(f, *args, **kwds)\u001b[0m\n",
      "File \u001b[1;32mc:\\Users\\domenic.cipollone\\VSCodeProjects\\ResearchChatBot\\.venv\\lib\\site-packages\\haystack\\document_stores\\pinecone.py:8\u001b[0m\n\u001b[0;32m      6\u001b[0m \u001b[39mimport\u001b[39;00m \u001b[39moperator\u001b[39;00m\n\u001b[1;32m----> 8\u001b[0m \u001b[39mimport\u001b[39;00m \u001b[39mpinecone\u001b[39;00m\n\u001b[0;32m      9\u001b[0m \u001b[39mimport\u001b[39;00m \u001b[39mnumpy\u001b[39;00m \u001b[39mas\u001b[39;00m \u001b[39mnp\u001b[39;00m\n",
      "\u001b[1;31mModuleNotFoundError\u001b[0m: No module named 'pinecone'",
      "\nThe above exception was the direct cause of the following exception:\n",
      "\u001b[1;31mImportError\u001b[0m                               Traceback (most recent call last)",
      "Cell \u001b[1;32mIn[32], line 20\u001b[0m\n\u001b[0;32m      8\u001b[0m processor \u001b[39m=\u001b[39m PreProcessor(\n\u001b[0;32m      9\u001b[0m     clean_empty_lines\u001b[39m=\u001b[39m\u001b[39mTrue\u001b[39;00m,\n\u001b[0;32m     10\u001b[0m     clean_whitespace\u001b[39m=\u001b[39m\u001b[39mTrue\u001b[39;00m,\n\u001b[1;32m   (...)\u001b[0m\n\u001b[0;32m     15\u001b[0m     split_overlap\u001b[39m=\u001b[39m\u001b[39m0\u001b[39m\n\u001b[0;32m     16\u001b[0m )\n\u001b[0;32m     18\u001b[0m \u001b[39m# document_store = InMemoryDocumentStore(use_bm25=True)\u001b[39;00m\n\u001b[1;32m---> 20\u001b[0m document_store \u001b[39m=\u001b[39m PineconeDocumentStore(\n\u001b[0;32m     21\u001b[0m     api_key\u001b[39m=\u001b[39;49mpinecone_api_key,\n\u001b[0;32m     22\u001b[0m     similarity\u001b[39m=\u001b[39;49m\u001b[39m\"\u001b[39;49m\u001b[39mcosine\u001b[39;49m\u001b[39m\"\u001b[39;49m,\n\u001b[0;32m     23\u001b[0m     index\u001b[39m=\u001b[39;49m\u001b[39m'\u001b[39;49m\u001b[39mdiw-test-index\u001b[39;49m\u001b[39m'\u001b[39;49m,\n\u001b[0;32m     24\u001b[0m     embedding_dim\u001b[39m=\u001b[39;49m\u001b[39m1536\u001b[39;49m\n\u001b[0;32m     25\u001b[0m )\n",
      "File \u001b[1;32mc:\\Users\\domenic.cipollone\\VSCodeProjects\\ResearchChatBot\\.venv\\lib\\site-packages\\haystack\\utils\\import_utils.py:47\u001b[0m, in \u001b[0;36m_missing_dependency_stub_factory.<locals>.MissingDependency.__init__\u001b[1;34m(self, *args, **kwargs)\u001b[0m\n\u001b[0;32m     46\u001b[0m \u001b[39mdef\u001b[39;00m \u001b[39m__init__\u001b[39m(\u001b[39mself\u001b[39m, \u001b[39m*\u001b[39margs, \u001b[39m*\u001b[39m\u001b[39m*\u001b[39mkwargs):\n\u001b[1;32m---> 47\u001b[0m     _optional_component_not_installed(classname, dep_group, import_error)\n",
      "File \u001b[1;32mc:\\Users\\domenic.cipollone\\VSCodeProjects\\ResearchChatBot\\.venv\\lib\\site-packages\\haystack\\utils\\import_utils.py:56\u001b[0m, in \u001b[0;36m_optional_component_not_installed\u001b[1;34m(component, dep_group, source_error)\u001b[0m\n\u001b[0;32m     55\u001b[0m \u001b[39mdef\u001b[39;00m \u001b[39m_optional_component_not_installed\u001b[39m(component: \u001b[39mstr\u001b[39m, dep_group: \u001b[39mstr\u001b[39m, source_error: \u001b[39mException\u001b[39;00m):\n\u001b[1;32m---> 56\u001b[0m     \u001b[39mraise\u001b[39;00m \u001b[39mImportError\u001b[39;00m(\n\u001b[0;32m     57\u001b[0m         \u001b[39mf\u001b[39m\u001b[39m\"\u001b[39m\u001b[39mFailed to import \u001b[39m\u001b[39m'\u001b[39m\u001b[39m{\u001b[39;00mcomponent\u001b[39m}\u001b[39;00m\u001b[39m'\u001b[39m\u001b[39m, \u001b[39m\u001b[39m\"\u001b[39m\n\u001b[0;32m     58\u001b[0m         \u001b[39m\"\u001b[39m\u001b[39mwhich is an optional component in Haystack.\u001b[39m\u001b[39m\\n\u001b[39;00m\u001b[39m\"\u001b[39m\n\u001b[0;32m     59\u001b[0m         \u001b[39mf\u001b[39m\u001b[39m\"\u001b[39m\u001b[39mRun \u001b[39m\u001b[39m'\u001b[39m\u001b[39mpip install \u001b[39m\u001b[39m'\u001b[39m\u001b[39mfarm-haystack[\u001b[39m\u001b[39m{\u001b[39;00mdep_group\u001b[39m}\u001b[39;00m\u001b[39m]\u001b[39m\u001b[39m'\u001b[39m\u001b[39m'\u001b[39m\u001b[39m \u001b[39m\u001b[39m\"\u001b[39m\n\u001b[0;32m     60\u001b[0m         \u001b[39m\"\u001b[39m\u001b[39mto install the required dependencies and make this component available.\u001b[39m\u001b[39m\\n\u001b[39;00m\u001b[39m\"\u001b[39m\n\u001b[0;32m     61\u001b[0m         \u001b[39mf\u001b[39m\u001b[39m\"\u001b[39m\u001b[39m(Original error: \u001b[39m\u001b[39m{\u001b[39;00m\u001b[39mstr\u001b[39m(source_error)\u001b[39m}\u001b[39;00m\u001b[39m)\u001b[39m\u001b[39m\"\u001b[39m\n\u001b[0;32m     62\u001b[0m     ) \u001b[39mfrom\u001b[39;00m \u001b[39msource_error\u001b[39;00m\n",
      "\u001b[1;31mImportError\u001b[0m: Failed to import 'PineconeDocumentStore', which is an optional component in Haystack.\nRun 'pip install 'farm-haystack[pinecone]'' to install the required dependencies and make this component available.\n(Original error: No module named 'pinecone')"
     ]
    }
   ],
   "source": [
    "import pinecone\n",
    "\n",
    "converter = PDFToTextConverter(\n",
    "    remove_numeric_tables=True,\n",
    "    valid_languages=[\"de\",\"en\"]\n",
    ")\n",
    "\n",
    "processor = PreProcessor(\n",
    "    clean_empty_lines=True,\n",
    "    clean_whitespace=True,\n",
    "    clean_header_footer=True,\n",
    "    split_by=\"word\",\n",
    "    split_length=200,\n",
    "    split_respect_sentence_boundary=True,\n",
    "    split_overlap=0\n",
    ")\n",
    "\n",
    "# document_store = InMemoryDocumentStore(use_bm25=True)\n",
    "\n",
    "\n"
   ]
  },
  {
   "cell_type": "code",
   "execution_count": null,
   "metadata": {},
   "outputs": [],
   "source": [
    "def get_embeddings(text: str, model=\"text-embedding-ada-002\") -> np.ndarray:\n",
    "    embedding = openai.Embedding.create(\n",
    "        input=text,\n",
    "        model=model\n",
    "    )[\"data\"][0][\"embedding\"]\n",
    "\n",
    "    return np.array(embedding)"
   ]
  },
  {
   "cell_type": "code",
   "execution_count": null,
   "metadata": {},
   "outputs": [],
   "source": [
    "def create_prompt(dataframe, df_column, question):\n",
    "\n",
    "    content = []\n",
    "    dataframe[df_column].apply(lambda x: content.append(str(x).replace(\",\", '').replace(\"'\", '')))\n",
    "\n",
    "    header = \"\"\"Answer the question as truthfully as possible using the provided context, and if the answer\n",
    "     is not contained within the text below, say \"I don't know.\"\\n\\nContext:\\n\"\"\"\n",
    "\n",
    "    header_total = str(header + str(content)).replace('[', '').replace(']', '')\n",
    "\n",
    "    return header_total + \"\\n\\n Q: \" + question + \"\\n A:\""
   ]
  },
  {
   "cell_type": "code",
   "execution_count": null,
   "metadata": {},
   "outputs": [],
   "source": [
    "for count, filename in enumerate(os.listdir(\"pdfs/\")):\n",
    "    if count < 1:\n",
    "        print(f'Working on {filename}')\n",
    "        doc = converter.convert(file_path=Path(\"pdfs/\"+str(filename)), meta=meta_data[count])\n",
    "        processed_docs = processor.process(doc)\n",
    "        \n",
    "        for doc_count in range(len(processed_docs)):\n",
    "            embedding_meta_data = get_embeddings(text=processed_docs[doc_count].content)\n",
    "            \n",
    "            processed_docs[doc_count].meta['embedding'] = embedding_meta_data\n",
    "\n",
    "        document_store.write_documents(processed_docs)\n",
    "    else:\n",
    "        break"
   ]
  },
  {
   "cell_type": "code",
   "execution_count": null,
   "metadata": {},
   "outputs": [],
   "source": [
    "# testing retrieval \n",
    "from haystack.nodes import BM25Retriever\n",
    "\n",
    "retriever = BM25Retriever(document_store)\n",
    "\n",
    "candidate_docs = retriever.retrieve(\n",
    "        query=\"3D Printability\",\n",
    "        top_k=3, \n",
    "        filters=None)\n"
   ]
  },
  {
   "cell_type": "code",
   "execution_count": null,
   "metadata": {},
   "outputs": [],
   "source": []
  }
 ],
 "metadata": {
  "kernelspec": {
   "display_name": ".venv",
   "language": "python",
   "name": "python3"
  },
  "language_info": {
   "codemirror_mode": {
    "name": "ipython",
    "version": 3
   },
   "file_extension": ".py",
   "mimetype": "text/x-python",
   "name": "python",
   "nbconvert_exporter": "python",
   "pygments_lexer": "ipython3",
   "version": "3.10.9"
  },
  "orig_nbformat": 4
 },
 "nbformat": 4,
 "nbformat_minor": 2
}
