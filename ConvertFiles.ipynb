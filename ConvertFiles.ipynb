{
 "cells": [
  {
   "cell_type": "code",
   "execution_count": null,
   "metadata": {},
   "outputs": [],
   "source": [
    "from haystack.nodes import PDFToTextConverter\n",
    "from haystack.nodes import PreProcessor\n",
    "from haystack.document_stores import PineconeDocumentStore\n",
    "from haystack.nodes import EmbeddingRetriever\n",
    "from dotenv import dotenv_values\n",
    "from pathlib import Path\n",
    "from haystack.pipelines import Pipeline\n",
    "from typing import Dict, List\n",
    "import pandas as pd\n",
    "import numpy as np\n",
    "import openai\n",
    "import pinecone\n",
    "import os"
   ]
  },
  {
   "cell_type": "code",
   "execution_count": null,
   "metadata": {},
   "outputs": [],
   "source": [
    "config = dotenv_values('api_keys.env')\n",
    "openai.api_key = config['OPENAI_API_KEY']\n",
    "pinecone_api_key = config['PINECONE_API_KEY']\n",
    "pinecone_env = config['PINECONE_ENV']"
   ]
  },
  {
   "cell_type": "code",
   "execution_count": null,
   "metadata": {},
   "outputs": [],
   "source": [
    "pinecone.init(api_key=pinecone_api_key,\n",
    "              environment=pinecone_env)\n",
    "\n",
    "# pinecone.create_index(name='diw-test-index',\n",
    "#                        dimension=1536)\n",
    "\n",
    "list_of_indexes = pinecone.list_indexes()\n",
    "index = pinecone.Index(list_of_indexes[0])"
   ]
  },
  {
   "cell_type": "code",
   "execution_count": null,
   "metadata": {},
   "outputs": [],
   "source": [
    "df = pd.read_pickle('diw.pkl')\n",
    "df.head()"
   ]
  },
  {
   "cell_type": "code",
   "execution_count": null,
   "metadata": {},
   "outputs": [],
   "source": [
    "meta_data = df.to_dict('records')"
   ]
  },
  {
   "cell_type": "code",
   "execution_count": null,
   "metadata": {},
   "outputs": [],
   "source": [
    "\n",
    "converter = PDFToTextConverter(\n",
    "    remove_numeric_tables=True,\n",
    "    valid_languages=[\"de\",\"en\"]\n",
    ")\n",
    "\n",
    "processor = PreProcessor(\n",
    "    clean_empty_lines=True,\n",
    "    clean_whitespace=True,\n",
    "    clean_header_footer=True,\n",
    "    split_by=\"word\",\n",
    "    split_length=200,\n",
    "    split_respect_sentence_boundary=True,\n",
    "    split_overlap=0\n",
    ")\n"
   ]
  },
  {
   "cell_type": "code",
   "execution_count": null,
   "metadata": {},
   "outputs": [],
   "source": [
    "document_store = PineconeDocumentStore(\n",
    "    api_key=pinecone_api_key,\n",
    "    environment=pinecone_env,\n",
    "    similarity=\"cosine\",\n",
    "    index='testing',\n",
    "    embedding_dim=1536\n",
    ")\n"
   ]
  },
  {
   "cell_type": "code",
   "execution_count": null,
   "metadata": {},
   "outputs": [],
   "source": [
    "def get_embeddings(text: str, model=\"text-embedding-ada-002\") -> List[float]:\n",
    "    embedding = openai.Embedding.create(\n",
    "        input=text,\n",
    "        model=model\n",
    "    )[\"data\"][0][\"embedding\"]\n",
    "\n",
    "    return embedding"
   ]
  },
  {
   "cell_type": "code",
   "execution_count": null,
   "metadata": {},
   "outputs": [],
   "source": [
    "def get_embeddings_for_pinecone(text: str, model=\"text-embedding-ada-002\") -> List[str]:\n",
    "    embedding = openai.Embedding.create(\n",
    "        input=text,\n",
    "        model=model\n",
    "    )[\"data\"][0][\"embedding\"]\n",
    "\n",
    "    return [str(i) for i in embedding]"
   ]
  },
  {
   "cell_type": "code",
   "execution_count": null,
   "metadata": {},
   "outputs": [],
   "source": [
    "def create_prompt(dataframe: pd.DataFrame, df_column: str, question: str) -> str:\n",
    "\n",
    "    content = []\n",
    "    dataframe[df_column].apply(lambda x: content.append(str(x).replace(\",\", '').replace(\"'\", '')))\n",
    "\n",
    "    header = \"\"\"Answer the question as truthfully as possible using the provided context, and if the answer\n",
    "     is not contained within the text below, say \"I don't know.\"\\n\\nContext:\\n\"\"\"\n",
    "\n",
    "    header_total = str(header + str(content)).replace('[', '').replace(']', '')\n",
    "\n",
    "    return header_total + \"\\n\\n Q: \" + question + \"\\n A:\""
   ]
  },
  {
   "cell_type": "code",
   "execution_count": null,
   "metadata": {},
   "outputs": [],
   "source": [
    "# clean and process doc, attach metadata, post to pinecone\n",
    "processed_doc_store = []\n",
    "\n",
    "for count, filename in enumerate(os.listdir(\"pdfs/\")):\n",
    "    if count < 2:\n",
    "        print(f'Working on {filename}')\n",
    "        doc = converter.convert(file_path=Path(\"pdfs/\"+str(filename)), meta=meta_data[count])\n",
    "        processed_docs = processor.process(doc)\n",
    "        processed_doc_store.append(processed_docs)\n",
    "\n",
    "        # document_store.write_documents(processed_docs)  ## posting to pinecone\n"
   ]
  },
  {
   "cell_type": "code",
   "execution_count": null,
   "metadata": {},
   "outputs": [],
   "source": [
    "processed_doc_store[0][0].meta['author']"
   ]
  },
  {
   "cell_type": "code",
   "execution_count": null,
   "metadata": {},
   "outputs": [],
   "source": [
    "retriever = EmbeddingRetriever(\n",
    "   document_store=document_store,\n",
    "   batch_size=8,\n",
    "   embedding_model=\"text-embedding-ada-002\",\n",
    "   api_key=openai.api_key,\n",
    "   max_seq_len=1024\n",
    ")"
   ]
  },
  {
   "cell_type": "code",
   "execution_count": null,
   "metadata": {},
   "outputs": [],
   "source": [
    "document_store.update_embeddings(\n",
    "    retriever=retriever, \n",
    "    batch_size=8\n",
    ")"
   ]
  },
  {
   "cell_type": "code",
   "execution_count": null,
   "metadata": {},
   "outputs": [],
   "source": [
    "# clean and process doc, split into chunks, attach metadata, embed with OpenAI, post to Pinecone\n",
    "\n",
    "processed_doc_store = []\n",
    "\n",
    "for count, filename in enumerate(os.listdir(\"pdfs/\")):\n",
    "    if count < 2:\n",
    "        print(f'Working on {filename}')\n",
    "        doc = converter.convert(file_path=Path(\"pdfs/\"+str(filename)), meta=meta_data[count])\n",
    "        processed_docs = processor.process(doc)\n",
    "        \n",
    "        for doc_count in range(len(processed_docs)):\n",
    "            embedding_meta_data = get_embeddings(text=processed_docs[doc_count].content)\n",
    "            \n",
    "            processed_docs[doc_count].meta['embedding'] = embedding_meta_data\n",
    "\n",
    "        processed_doc_store.append(processed_docs)\n",
    "        # document_store.write_documents(processed_docs)\n",
    "    else:\n",
    "        break"
   ]
  },
  {
   "cell_type": "code",
   "execution_count": null,
   "metadata": {},
   "outputs": [],
   "source": [
    "def flatten_document_store(documents_store_to_flatten: List[List[Dict]]) -> list:\n",
    "    return [element for sublist in documents_store_to_flatten for element in sublist]"
   ]
  },
  {
   "cell_type": "code",
   "execution_count": null,
   "metadata": {},
   "outputs": [],
   "source": [
    "flat_list = flatten_document_store(processed_doc_store)"
   ]
  },
  {
   "cell_type": "code",
   "execution_count": 73,
   "metadata": {},
   "outputs": [],
   "source": [
    "# Takes in List[List[dict]] processed_doc_store, extracts unique id, embeddings, and meta data\n",
    "# uses list(zip(ids_batch, embeds, meta_data)) to upset to Pinecone DB 'testing'\n",
    "\n",
    "def upsert_to_pinecone(list_of_document_schemas: List[dict], batch_size: int, pinecone_index: object) -> None:\n",
    "\n",
    "    for i in range(0, len(list_of_document_schemas), batch_size):\n",
    "        i_end = min(len(list_of_document_schemas), i+batch_size)\n",
    "\n",
    "        meta_batch = list_of_document_schemas[i:i_end]\n",
    "\n",
    "        ids_batch = [x.id for x in meta_batch]\n",
    "\n",
    "        doc_content = [x.content for x in meta_batch]\n",
    "\n",
    "        embeddings = [get_embeddings(x) for x in doc_content]\n",
    "\n",
    "        meta_data = [{'title': x.meta['title'], \n",
    "                      'author': x.meta['author'], \n",
    "                      'year': x.meta['year'], \n",
    "                      'keywords': x.meta['keywords'], \n",
    "                      'issue': x.meta['issue'], \n",
    "                      'volume': x.meta['volume'], \n",
    "                      'journal': x.meta['journal'], \n",
    "                      'date_added': x.meta['date_added']}\n",
    "\n",
    "                      for x in meta_batch]\n",
    "\n",
    "        to_upsert = list(zip(ids_batch, embeddings, meta_data))\n",
    "        pinecone_index.upsert(vectors=to_upsert)\n"
   ]
  },
  {
   "cell_type": "code",
   "execution_count": 74,
   "metadata": {},
   "outputs": [],
   "source": [
    "upsert_to_pinecone(list_of_document_schemas=flat_list, batch_size=20, pinecone_index=index)"
   ]
  },
  {
   "cell_type": "code",
   "execution_count": 76,
   "metadata": {},
   "outputs": [
    {
     "data": {
      "text/plain": [
       "{}"
      ]
     },
     "execution_count": 76,
     "metadata": {},
     "output_type": "execute_result"
    }
   ],
   "source": [
    "index.delete(delete_all='true', namespace='vectors')"
   ]
  },
  {
   "cell_type": "code",
   "execution_count": 77,
   "metadata": {},
   "outputs": [
    {
     "data": {
      "text/plain": [
       "{'dimension': 1536,\n",
       " 'index_fullness': 0.0,\n",
       " 'namespaces': {'': {'vector_count': 97}},\n",
       " 'total_vector_count': 97}"
      ]
     },
     "execution_count": 77,
     "metadata": {},
     "output_type": "execute_result"
    }
   ],
   "source": [
    "index.describe_index_stats()"
   ]
  },
  {
   "cell_type": "code",
   "execution_count": null,
   "metadata": {},
   "outputs": [],
   "source": [
    "candidate_docs = retriever.retrieve(\n",
    "    query=\"Printabilty in 3D printing\",\n",
    "    top_k=3, \n",
    "    filters={}\n",
    ")"
   ]
  }
 ],
 "metadata": {
  "kernelspec": {
   "display_name": ".venv",
   "language": "python",
   "name": "python3"
  },
  "language_info": {
   "codemirror_mode": {
    "name": "ipython",
    "version": 3
   },
   "file_extension": ".py",
   "mimetype": "text/x-python",
   "name": "python",
   "nbconvert_exporter": "python",
   "pygments_lexer": "ipython3",
   "version": "3.11.1"
  },
  "orig_nbformat": 4
 },
 "nbformat": 4,
 "nbformat_minor": 2
}
