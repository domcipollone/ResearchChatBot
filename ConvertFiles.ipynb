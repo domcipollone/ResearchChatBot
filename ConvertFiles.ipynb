{
 "cells": [
  {
   "cell_type": "code",
   "execution_count": null,
   "metadata": {},
   "outputs": [],
   "source": [
    "from haystack.nodes import PDFToTextConverter\n",
    "from haystack.nodes import PreProcessor\n",
    "from haystack.document_stores import PineconeDocumentStore\n",
    "from dotenv import dotenv_values\n",
    "from pathlib import Path\n",
    "from haystack.pipelines import Pipeline\n",
    "import pandas as pd\n",
    "import numpy as np\n",
    "import openai\n",
    "import pinecone\n",
    "import os"
   ]
  },
  {
   "cell_type": "code",
   "execution_count": null,
   "metadata": {},
   "outputs": [],
   "source": [
    "config = dotenv_values('api_keys.env')\n",
    "openai.api_key = config['OPENAI_API_KEY']\n",
    "pinecone_api_key = config['PINECONE_API_KEY']\n",
    "pinecone_env = config['PINECONE_ENV']"
   ]
  },
  {
   "cell_type": "code",
   "execution_count": null,
   "metadata": {},
   "outputs": [],
   "source": [
    "pinecone.init(api_key=pinecone_api_key,\n",
    "              environment=pinecone_env)\n",
    "\n",
    "# pinecone.create_index(name='diw-test-index',\n",
    "#                        dimension=1536)\n",
    "pinecone.list_indexes()"
   ]
  },
  {
   "cell_type": "code",
   "execution_count": null,
   "metadata": {},
   "outputs": [],
   "source": [
    "document_store = PineconeDocumentStore(\n",
    "    api_key=pinecone_api_key,\n",
    "    environment=pinecone_env,\n",
    "    similarity=\"cosine\",\n",
    "    index='testing',\n",
    "    embedding_dim=1536\n",
    ")"
   ]
  },
  {
   "cell_type": "code",
   "execution_count": null,
   "metadata": {},
   "outputs": [],
   "source": [
    "df = pd.read_pickle('diw.pkl')\n",
    "print(df.head())"
   ]
  },
  {
   "cell_type": "code",
   "execution_count": null,
   "metadata": {},
   "outputs": [],
   "source": [
    "meta_data = df.to_dict('records')"
   ]
  },
  {
   "cell_type": "code",
   "execution_count": null,
   "metadata": {},
   "outputs": [],
   "source": [
    "\n",
    "converter = PDFToTextConverter(\n",
    "    remove_numeric_tables=True,\n",
    "    valid_languages=[\"de\",\"en\"]\n",
    ")\n",
    "\n",
    "processor = PreProcessor(\n",
    "    clean_empty_lines=True,\n",
    "    clean_whitespace=True,\n",
    "    clean_header_footer=True,\n",
    "    split_by=\"word\",\n",
    "    split_length=200,\n",
    "    split_respect_sentence_boundary=True,\n",
    "    split_overlap=0\n",
    ")\n",
    "\n",
    "# document_store = InMemoryDocumentStore(use_bm25=True)\n",
    "\n",
    "\n"
   ]
  },
  {
   "cell_type": "code",
   "execution_count": null,
   "metadata": {},
   "outputs": [],
   "source": [
    "def get_embeddings(text: str, model=\"text-embedding-ada-002\") -> list[float]:\n",
    "    embedding = openai.Embedding.create(\n",
    "        input=text,\n",
    "        model=model\n",
    "    )[\"data\"][0][\"embedding\"]\n",
    "\n",
    "    return embedding"
   ]
  },
  {
   "cell_type": "code",
   "execution_count": null,
   "metadata": {},
   "outputs": [],
   "source": [
    "def get_embeddings_for_pinecone(text: str, model=\"text-embedding-ada-002\") -> list[str]:\n",
    "    embedding = openai.Embedding.create(\n",
    "        input=text,\n",
    "        model=model\n",
    "    )[\"data\"][0][\"embedding\"]\n",
    "\n",
    "    return [str(i) for i in embedding]"
   ]
  },
  {
   "cell_type": "code",
   "execution_count": null,
   "metadata": {},
   "outputs": [],
   "source": [
    "input_string = 'I am the terminator'\n",
    "\n",
    "x = get_embeddings_for_pinecone(text=input_string)\n",
    "print(type(x[0]))"
   ]
  },
  {
   "cell_type": "code",
   "execution_count": null,
   "metadata": {},
   "outputs": [],
   "source": [
    "def create_prompt(dataframe, df_column, question):\n",
    "\n",
    "    content = []\n",
    "    dataframe[df_column].apply(lambda x: content.append(str(x).replace(\",\", '').replace(\"'\", '')))\n",
    "\n",
    "    header = \"\"\"Answer the question as truthfully as possible using the provided context, and if the answer\n",
    "     is not contained within the text below, say \"I don't know.\"\\n\\nContext:\\n\"\"\"\n",
    "\n",
    "    header_total = str(header + str(content)).replace('[', '').replace(']', '')\n",
    "\n",
    "    return header_total + \"\\n\\n Q: \" + question + \"\\n A:\""
   ]
  },
  {
   "cell_type": "code",
   "execution_count": null,
   "metadata": {},
   "outputs": [],
   "source": [
    "for count, filename in enumerate(os.listdir(\"pdfs/\")):\n",
    "    if count < 1:\n",
    "        print(f'Working on {filename}')\n",
    "        doc = converter.convert(file_path=Path(\"pdfs/\"+str(filename)), meta=meta_data[count])\n",
    "        processed_docs = processor.process(doc)\n",
    "        \n",
    "        for doc_count in range(len(processed_docs)):\n",
    "            embedding_meta_data = get_embeddings_for_pinecone(text=processed_docs[doc_count].content)\n",
    "            \n",
    "            processed_docs[doc_count].meta['embedding'] = embedding_meta_data\n",
    "\n",
    "        document_store.write_documents(processed_docs)\n",
    "    else:\n",
    "        break"
   ]
  },
  {
   "cell_type": "code",
   "execution_count": null,
   "metadata": {},
   "outputs": [],
   "source": [
    "index = pinecone.Index('testing')"
   ]
  },
  {
   "cell_type": "code",
   "execution_count": null,
   "metadata": {},
   "outputs": [],
   "source": [
    "index.describe_index_stats()"
   ]
  },
  {
   "cell_type": "code",
   "execution_count": null,
   "metadata": {},
   "outputs": [],
   "source": [
    "index.fetch(ids=['id1'])"
   ]
  }
 ],
 "metadata": {
  "kernelspec": {
   "display_name": ".venv",
   "language": "python",
   "name": "python3"
  },
  "language_info": {
   "codemirror_mode": {
    "name": "ipython",
    "version": 3
   },
   "file_extension": ".py",
   "mimetype": "text/x-python",
   "name": "python",
   "nbconvert_exporter": "python",
   "pygments_lexer": "ipython3",
   "version": "3.9.0"
  },
  "orig_nbformat": 4
 },
 "nbformat": 4,
 "nbformat_minor": 2
}
