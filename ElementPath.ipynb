{
 "cells": [
  {
   "cell_type": "code",
   "execution_count": 1,
   "metadata": {},
   "outputs": [],
   "source": [
    "from lxml import etree\n",
    "import pandas as pd\n",
    "from datetime import date"
   ]
  },
  {
   "cell_type": "code",
   "execution_count": 6,
   "metadata": {},
   "outputs": [
    {
     "name": "stdout",
     "output_type": "stream",
     "text": [
      "2023-04-25\n",
      "<class 'str'>\n"
     ]
    }
   ],
   "source": [
    "d = date.today().isoformat()\n",
    "print(d)\n",
    "print(type(d))"
   ]
  },
  {
   "cell_type": "code",
   "execution_count": 7,
   "metadata": {},
   "outputs": [],
   "source": [
    "f = 'IncomingData/04.22.23_endnote.xml'"
   ]
  },
  {
   "cell_type": "code",
   "execution_count": null,
   "metadata": {},
   "outputs": [],
   "source": [
    "\n",
    "# Parse the XML file\n",
    "tree = etree.parse(f)\n",
    "\n",
    "# Get the root element\n",
    "root = tree.getroot()\n",
    "\n",
    "# Iterate through all elements in the tree\n",
    "for element in root.iter('record'):\n",
    "    # Print the element tag\n",
    "    print('Element:', element.tag)\n",
    "\n",
    "    # Print the parent element tag\n",
    "    if element.getparent() is not None:\n",
    "        print('Parent:', element.getparent().tag)\n",
    "\n",
    "    # Print the children element tags\n",
    "    for child in element.getchildren():\n",
    "        print('Child:', child.tag)\n",
    "\n",
    "    # Add a blank line to separate the elements\n",
    "    print()\n"
   ]
  },
  {
   "cell_type": "code",
   "execution_count": 42,
   "metadata": {},
   "outputs": [],
   "source": [
    "# Parse the XML file\n",
    "tree = etree.parse(f)\n",
    "\n",
    "# Get the root element\n",
    "root = tree.getroot()\n",
    "\n",
    "df = pd.DataFrame(columns=['title', 'author', 'year', 'abstract', 'keywords', 'issue', 'volume', 'journal', 'date_added'])\n",
    "\n",
    "# Iterate through the records\n",
    "for count, record in enumerate(root.iter('record')):\n",
    "    # Get the values of the elements\n",
    "    \n",
    "    title = record.find('titles/title')\n",
    "    authors = record.find('contributors/authors/author')\n",
    "    year = record.find('dates/year')\n",
    "    abstract = record.find('abstract')\n",
    "    keywords = record.findall('keywords/keyword')\n",
    "    issue = record.find('issue')\n",
    "    volume = record.find('volume')\n",
    "    journal = record.find('periodical/full-title')\n",
    "\n",
    "    if title is None:\n",
    "        title_text = ''\n",
    "    else:\n",
    "        title_text = title.text\n",
    "\n",
    "    if authors is None:\n",
    "        authors_text = ''\n",
    "    else:\n",
    "        authors_text = authors.text\n",
    "\n",
    "    if year is None:\n",
    "        years_text = ''\n",
    "    else:\n",
    "        years_text = year.text\n",
    "\n",
    "    if abstract is None:\n",
    "        abstract_text = ''\n",
    "    else:\n",
    "        abstract_text = abstract.text\n",
    "\n",
    "    if keywords is None:\n",
    "        keyword_text = []\n",
    "    else:\n",
    "        keyword_text = []\n",
    "        for subelements in keywords:\n",
    "            keyword_text.append(subelements.text) \n",
    "\n",
    "    if issue is None:\n",
    "        issue_text = 'NaN'\n",
    "    else: \n",
    "        issue_text = issue.text\n",
    "\n",
    "    if volume is None:\n",
    "        volume_text = ''\n",
    "    else: \n",
    "        volume_text = volume.text\n",
    "\n",
    "    if journal is None:\n",
    "        journal_text = ''\n",
    "    else: \n",
    "        journal_text = journal.text \n",
    "\n",
    "\n",
    "    df.loc[count, 'title'] = title_text\n",
    "    df.loc[count, 'year'] = years_text\n",
    "    df.loc[count, 'author'] = authors_text.strip()\n",
    "    df.loc[count, 'abstract'] = abstract_text\n",
    "    df.loc[count, 'keywords'] = keyword_text\n",
    "    df.loc[count, 'issue'] = issue_text\n",
    "    df.loc[count, 'volume'] = volume_text\n",
    "    df.loc[count, 'journal'] = journal_text\n",
    "    df.loc[count, 'date_added'] = date.today().isoformat()\n",
    "\n",
    "df.astype({'author': 'str'})\n",
    "\n",
    "df.sort_values(by='author', ascending=True, inplace=True)\n",
    "df.reset_index(inplace=True, drop=True)\n",
    "df.to_csv('DIW.csv')"
   ]
  },
  {
   "cell_type": "code",
   "execution_count": 43,
   "metadata": {},
   "outputs": [
    {
     "data": {
      "text/plain": [
       "title         object\n",
       "author        object\n",
       "year          object\n",
       "abstract      object\n",
       "keywords      object\n",
       "issue         object\n",
       "volume        object\n",
       "journal       object\n",
       "date_added    object\n",
       "dtype: object"
      ]
     },
     "execution_count": 43,
     "metadata": {},
     "output_type": "execute_result"
    }
   ],
   "source": [
    "# df.astype({'author': 'string'}).dtypes\n",
    "df.dtypes\n",
    "# type(df.loc[0, 'author'])\n",
    "# type(df.loc[0, 'year'])\n",
    "# type(df.loc[0, 'keywords'])"
   ]
  },
  {
   "cell_type": "code",
   "execution_count": null,
   "metadata": {},
   "outputs": [],
   "source": [
    "# Parse the XML file\n",
    "tree = etree.parse(f)\n",
    "\n",
    "# Get the root element\n",
    "root = tree.getroot()\n",
    "\n",
    "df = pd.DataFrame(columns=['author'])\n",
    "\n",
    "# Iterate through the records\n",
    "for count, record in enumerate(root.iter('record')):\n",
    "        \n",
    "    authors = record.find('contributors/authors/author')\n",
    "    \n",
    "    if authors is None:\n",
    "        authors_text = ''\n",
    "    else:\n",
    "        authors_text = authors.text\n",
    "\n",
    "print(authors_text.strip())\n",
    "print(type(authors_text.strip()))"
   ]
  }
 ],
 "metadata": {
  "kernelspec": {
   "display_name": ".venv",
   "language": "python",
   "name": "python3"
  },
  "language_info": {
   "codemirror_mode": {
    "name": "ipython",
    "version": 3
   },
   "file_extension": ".py",
   "mimetype": "text/x-python",
   "name": "python",
   "nbconvert_exporter": "python",
   "pygments_lexer": "ipython3",
   "version": "3.9.0"
  },
  "orig_nbformat": 4
 },
 "nbformat": 4,
 "nbformat_minor": 2
}
